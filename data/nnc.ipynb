{
  "nbformat": 4,
  "nbformat_minor": 0,
  "metadata": {
    "colab": {
      "provenance": []
    },
    "kernelspec": {
      "name": "python3",
      "display_name": "Python 3"
    },
    "language_info": {
      "name": "python"
    }
  },
  "cells": [
    {
      "cell_type": "code",
      "execution_count": 12,
      "metadata": {
        "id": "D5NYQ9RuPpd_"
      },
      "outputs": [],
      "source": [
        "import pandas as pd\n",
        "import seaborn as sns\n",
        "import matplotlib.pyplot as plt\n",
        "\n",
        "from sklearn.preprocessing import StandardScaler\n",
        "from sklearn.model_selection import train_test_split\n",
        "from sklearn.neighbors import KNeighborsClassifier\n",
        "from sklearn.metrics import accuracy_score, classification_report, confusion_matrix"
      ]
    },
    {
      "cell_type": "code",
      "source": [
        "df = pd.read_csv('dataset.csv')\n",
        "df.info()"
      ],
      "metadata": {
        "colab": {
          "base_uri": "https://localhost:8080/"
        },
        "id": "JXnq2cbAPqcY",
        "outputId": "b72259a7-9bb4-4f12-cd85-24b642352b34"
      },
      "execution_count": 2,
      "outputs": [
        {
          "output_type": "stream",
          "name": "stdout",
          "text": [
            "<class 'pandas.core.frame.DataFrame'>\n",
            "RangeIndex: 1168 entries, 0 to 1167\n",
            "Data columns (total 16 columns):\n",
            " #   Column          Non-Null Count  Dtype \n",
            "---  ------          --------------  ----- \n",
            " 0   product         1168 non-null   object\n",
            " 1   date            1168 non-null   object\n",
            " 2   malfunction     1168 non-null   int64 \n",
            " 3   feature1        1168 non-null   int64 \n",
            " 4   feature2        1168 non-null   int64 \n",
            " 5   feature3        1168 non-null   int64 \n",
            " 6   feature4        1168 non-null   int64 \n",
            " 7   feature5        1168 non-null   int64 \n",
            " 8   feature6        1168 non-null   int64 \n",
            " 9   feature7        1168 non-null   int64 \n",
            " 10  feature9        1168 non-null   int64 \n",
            " 11  active          1168 non-null   int64 \n",
            " 12  month           1168 non-null   int64 \n",
            " 13  Day_of_week     1168 non-null   int64 \n",
            " 14  max_date        1168 non-null   object\n",
            " 15  failure_before  1168 non-null   int64 \n",
            "dtypes: int64(13), object(3)\n",
            "memory usage: 146.1+ KB\n"
          ]
        }
      ]
    },
    {
      "cell_type": "code",
      "source": [
        "df.drop(['date','max_date'], axis = 1, inplace = True)\n",
        "df.nunique()"
      ],
      "metadata": {
        "colab": {
          "base_uri": "https://localhost:8080/",
          "height": 523
        },
        "id": "L1fdBRwHPqUA",
        "outputId": "9cabb1a5-cd4d-4e47-e7cd-5e4375f2d310"
      },
      "execution_count": 3,
      "outputs": [
        {
          "output_type": "execute_result",
          "data": {
            "text/plain": [
              "product              7\n",
              "malfunction          2\n",
              "feature1          1168\n",
              "feature2           102\n",
              "feature3            43\n",
              "feature4            55\n",
              "feature5            58\n",
              "feature6          1129\n",
              "feature7            14\n",
              "feature9            63\n",
              "active              18\n",
              "month                9\n",
              "Day_of_week          7\n",
              "failure_before       2\n",
              "dtype: int64"
            ],
            "text/html": [
              "<div>\n",
              "<style scoped>\n",
              "    .dataframe tbody tr th:only-of-type {\n",
              "        vertical-align: middle;\n",
              "    }\n",
              "\n",
              "    .dataframe tbody tr th {\n",
              "        vertical-align: top;\n",
              "    }\n",
              "\n",
              "    .dataframe thead th {\n",
              "        text-align: right;\n",
              "    }\n",
              "</style>\n",
              "<table border=\"1\" class=\"dataframe\">\n",
              "  <thead>\n",
              "    <tr style=\"text-align: right;\">\n",
              "      <th></th>\n",
              "      <th>0</th>\n",
              "    </tr>\n",
              "  </thead>\n",
              "  <tbody>\n",
              "    <tr>\n",
              "      <th>product</th>\n",
              "      <td>7</td>\n",
              "    </tr>\n",
              "    <tr>\n",
              "      <th>malfunction</th>\n",
              "      <td>2</td>\n",
              "    </tr>\n",
              "    <tr>\n",
              "      <th>feature1</th>\n",
              "      <td>1168</td>\n",
              "    </tr>\n",
              "    <tr>\n",
              "      <th>feature2</th>\n",
              "      <td>102</td>\n",
              "    </tr>\n",
              "    <tr>\n",
              "      <th>feature3</th>\n",
              "      <td>43</td>\n",
              "    </tr>\n",
              "    <tr>\n",
              "      <th>feature4</th>\n",
              "      <td>55</td>\n",
              "    </tr>\n",
              "    <tr>\n",
              "      <th>feature5</th>\n",
              "      <td>58</td>\n",
              "    </tr>\n",
              "    <tr>\n",
              "      <th>feature6</th>\n",
              "      <td>1129</td>\n",
              "    </tr>\n",
              "    <tr>\n",
              "      <th>feature7</th>\n",
              "      <td>14</td>\n",
              "    </tr>\n",
              "    <tr>\n",
              "      <th>feature9</th>\n",
              "      <td>63</td>\n",
              "    </tr>\n",
              "    <tr>\n",
              "      <th>active</th>\n",
              "      <td>18</td>\n",
              "    </tr>\n",
              "    <tr>\n",
              "      <th>month</th>\n",
              "      <td>9</td>\n",
              "    </tr>\n",
              "    <tr>\n",
              "      <th>Day_of_week</th>\n",
              "      <td>7</td>\n",
              "    </tr>\n",
              "    <tr>\n",
              "      <th>failure_before</th>\n",
              "      <td>2</td>\n",
              "    </tr>\n",
              "  </tbody>\n",
              "</table>\n",
              "</div><br><label><b>dtype:</b> int64</label>"
            ]
          },
          "metadata": {},
          "execution_count": 3
        }
      ]
    },
    {
      "cell_type": "code",
      "source": [
        "scaler = StandardScaler()\n",
        "num_vars = ['feature1', 'feature2', 'feature6']\n",
        "df[num_vars] = scaler.fit_transform(df[num_vars])\n",
        "df.info()"
      ],
      "metadata": {
        "colab": {
          "base_uri": "https://localhost:8080/"
        },
        "id": "YtPLyMIfP8Ht",
        "outputId": "3a69474a-aa65-49d5-b9cf-f4ce2ca3486f"
      },
      "execution_count": 5,
      "outputs": [
        {
          "output_type": "stream",
          "name": "stdout",
          "text": [
            "<class 'pandas.core.frame.DataFrame'>\n",
            "RangeIndex: 1168 entries, 0 to 1167\n",
            "Data columns (total 14 columns):\n",
            " #   Column          Non-Null Count  Dtype  \n",
            "---  ------          --------------  -----  \n",
            " 0   product         1168 non-null   object \n",
            " 1   malfunction     1168 non-null   int64  \n",
            " 2   feature1        1168 non-null   float64\n",
            " 3   feature2        1168 non-null   float64\n",
            " 4   feature3        1168 non-null   int64  \n",
            " 5   feature4        1168 non-null   int64  \n",
            " 6   feature5        1168 non-null   int64  \n",
            " 7   feature6        1168 non-null   float64\n",
            " 8   feature7        1168 non-null   int64  \n",
            " 9   feature9        1168 non-null   int64  \n",
            " 10  active          1168 non-null   int64  \n",
            " 11  month           1168 non-null   int64  \n",
            " 12  Day_of_week     1168 non-null   int64  \n",
            " 13  failure_before  1168 non-null   int64  \n",
            "dtypes: float64(3), int64(10), object(1)\n",
            "memory usage: 127.9+ KB\n"
          ]
        }
      ]
    },
    {
      "cell_type": "code",
      "source": [
        "for col in ['month','Day_of_week', 'feature3', 'feature4', 'feature5', 'feature7', 'feature9']:\n",
        "  df[col] = df[col].astype('object')\n",
        "\n",
        "df.info()"
      ],
      "metadata": {
        "colab": {
          "base_uri": "https://localhost:8080/"
        },
        "id": "R1mGNyO6P7_B",
        "outputId": "3656199a-4f28-41a6-9d48-5c233af7f534"
      },
      "execution_count": 6,
      "outputs": [
        {
          "output_type": "stream",
          "name": "stdout",
          "text": [
            "<class 'pandas.core.frame.DataFrame'>\n",
            "RangeIndex: 1168 entries, 0 to 1167\n",
            "Data columns (total 14 columns):\n",
            " #   Column          Non-Null Count  Dtype  \n",
            "---  ------          --------------  -----  \n",
            " 0   product         1168 non-null   object \n",
            " 1   malfunction     1168 non-null   int64  \n",
            " 2   feature1        1168 non-null   float64\n",
            " 3   feature2        1168 non-null   float64\n",
            " 4   feature3        1168 non-null   object \n",
            " 5   feature4        1168 non-null   object \n",
            " 6   feature5        1168 non-null   object \n",
            " 7   feature6        1168 non-null   float64\n",
            " 8   feature7        1168 non-null   object \n",
            " 9   feature9        1168 non-null   object \n",
            " 10  active          1168 non-null   int64  \n",
            " 11  month           1168 non-null   object \n",
            " 12  Day_of_week     1168 non-null   object \n",
            " 13  failure_before  1168 non-null   int64  \n",
            "dtypes: float64(3), int64(3), object(8)\n",
            "memory usage: 127.9+ KB\n"
          ]
        }
      ]
    },
    {
      "cell_type": "code",
      "source": [
        "df = pd.get_dummies(df, drop_first = True)\n",
        "df.shape"
      ],
      "metadata": {
        "colab": {
          "base_uri": "https://localhost:8080/"
        },
        "id": "UZvZ6Bd9P75i",
        "outputId": "26ff65aa-692e-450a-b114-b1592a3d7bda"
      },
      "execution_count": 7,
      "outputs": [
        {
          "output_type": "execute_result",
          "data": {
            "text/plain": [
              "(1168, 254)"
            ]
          },
          "metadata": {},
          "execution_count": 7
        }
      ]
    },
    {
      "cell_type": "code",
      "source": [
        "print(df.shape)\n",
        "df['malfunction'].value_counts()"
      ],
      "metadata": {
        "colab": {
          "base_uri": "https://localhost:8080/",
          "height": 195
        },
        "id": "Tscnt1iDQgDi",
        "outputId": "04e515a4-3e5d-4e4f-c0ab-4847c72d0a2f"
      },
      "execution_count": 8,
      "outputs": [
        {
          "output_type": "stream",
          "name": "stdout",
          "text": [
            "(1168, 254)\n"
          ]
        },
        {
          "output_type": "execute_result",
          "data": {
            "text/plain": [
              "malfunction\n",
              "0    1161\n",
              "1       7\n",
              "Name: count, dtype: int64"
            ],
            "text/html": [
              "<div>\n",
              "<style scoped>\n",
              "    .dataframe tbody tr th:only-of-type {\n",
              "        vertical-align: middle;\n",
              "    }\n",
              "\n",
              "    .dataframe tbody tr th {\n",
              "        vertical-align: top;\n",
              "    }\n",
              "\n",
              "    .dataframe thead th {\n",
              "        text-align: right;\n",
              "    }\n",
              "</style>\n",
              "<table border=\"1\" class=\"dataframe\">\n",
              "  <thead>\n",
              "    <tr style=\"text-align: right;\">\n",
              "      <th></th>\n",
              "      <th>count</th>\n",
              "    </tr>\n",
              "    <tr>\n",
              "      <th>malfunction</th>\n",
              "      <th></th>\n",
              "    </tr>\n",
              "  </thead>\n",
              "  <tbody>\n",
              "    <tr>\n",
              "      <th>0</th>\n",
              "      <td>1161</td>\n",
              "    </tr>\n",
              "    <tr>\n",
              "      <th>1</th>\n",
              "      <td>7</td>\n",
              "    </tr>\n",
              "  </tbody>\n",
              "</table>\n",
              "</div><br><label><b>dtype:</b> int64</label>"
            ]
          },
          "metadata": {},
          "execution_count": 8
        }
      ]
    },
    {
      "cell_type": "code",
      "source": [
        "X = df.drop('malfunction', axis = 1)\n",
        "Y = df['malfunction']      #target"
      ],
      "metadata": {
        "id": "78X0mnHbQf_C"
      },
      "execution_count": 9,
      "outputs": []
    },
    {
      "cell_type": "code",
      "source": [
        "X_train, X_test, Y_train, Y_test = train_test_split(X, Y, test_size = 0.2, random_state = 42)\n",
        "print(len(X_train), len(X_test))"
      ],
      "metadata": {
        "colab": {
          "base_uri": "https://localhost:8080/"
        },
        "id": "PH0ZrCZSQpMN",
        "outputId": "f4c84802-3d75-4d17-8ae1-191a2dc5bd9f"
      },
      "execution_count": 63,
      "outputs": [
        {
          "output_type": "stream",
          "name": "stdout",
          "text": [
            "934 234\n"
          ]
        }
      ]
    },
    {
      "cell_type": "code",
      "source": [
        "def model(k):\n",
        "\n",
        "  knn = KNeighborsClassifier(n_neighbors = k, weights = 'distance')\n",
        "  knn.fit(X_train, Y_train)\n",
        "  pred = knn.predict(X_train)\n",
        "  preds = knn.predict(X_test)\n",
        "  return pred, preds"
      ],
      "metadata": {
        "id": "wfk-eAPpQpC-"
      },
      "execution_count": 162,
      "outputs": []
    },
    {
      "cell_type": "code",
      "source": [
        "y_pred, y_preds = model(5)"
      ],
      "metadata": {
        "id": "Lv6Ituc2Qo5u"
      },
      "execution_count": 168,
      "outputs": []
    },
    {
      "cell_type": "code",
      "source": [
        "print (\"Train Accuracy=\", round(accuracy_score(Y_train, y_pred), 6))"
      ],
      "metadata": {
        "colab": {
          "base_uri": "https://localhost:8080/"
        },
        "id": "KXhJhY9pTiUq",
        "outputId": "f99aa49d-9ef3-44d8-a063-ae5f28cdb5d9"
      },
      "execution_count": 169,
      "outputs": [
        {
          "output_type": "stream",
          "name": "stdout",
          "text": [
            "Train Accuracy= 0.995717\n"
          ]
        }
      ]
    },
    {
      "cell_type": "code",
      "source": [
        "print(\"Test Accuracy=\", round(accuracy_score(Y_test, y_preds), 6))"
      ],
      "metadata": {
        "colab": {
          "base_uri": "https://localhost:8080/"
        },
        "id": "gfjljx5dQ8et",
        "outputId": "32dd7cd2-f921-4f1b-8c42-fe866a48653e"
      },
      "execution_count": 170,
      "outputs": [
        {
          "output_type": "stream",
          "name": "stdout",
          "text": [
            "Test Accuracy= 0.995726\n"
          ]
        }
      ]
    },
    {
      "cell_type": "code",
      "source": [
        "print(classification_report(Y_test, y_preds))"
      ],
      "metadata": {
        "colab": {
          "base_uri": "https://localhost:8080/"
        },
        "id": "_r_947iOQ8Xu",
        "outputId": "ca630e81-f947-4e88-9314-20a810cf764f"
      },
      "execution_count": 171,
      "outputs": [
        {
          "output_type": "stream",
          "name": "stdout",
          "text": [
            "              precision    recall  f1-score   support\n",
            "\n",
            "           0       1.00      1.00      1.00       233\n",
            "           1       0.00      0.00      0.00         1\n",
            "\n",
            "    accuracy                           1.00       234\n",
            "   macro avg       0.50      0.50      0.50       234\n",
            "weighted avg       0.99      1.00      0.99       234\n",
            "\n"
          ]
        },
        {
          "output_type": "stream",
          "name": "stderr",
          "text": [
            "/usr/local/lib/python3.11/dist-packages/sklearn/metrics/_classification.py:1565: UndefinedMetricWarning: Precision is ill-defined and being set to 0.0 in labels with no predicted samples. Use `zero_division` parameter to control this behavior.\n",
            "  _warn_prf(average, modifier, f\"{metric.capitalize()} is\", len(result))\n",
            "/usr/local/lib/python3.11/dist-packages/sklearn/metrics/_classification.py:1565: UndefinedMetricWarning: Precision is ill-defined and being set to 0.0 in labels with no predicted samples. Use `zero_division` parameter to control this behavior.\n",
            "  _warn_prf(average, modifier, f\"{metric.capitalize()} is\", len(result))\n",
            "/usr/local/lib/python3.11/dist-packages/sklearn/metrics/_classification.py:1565: UndefinedMetricWarning: Precision is ill-defined and being set to 0.0 in labels with no predicted samples. Use `zero_division` parameter to control this behavior.\n",
            "  _warn_prf(average, modifier, f\"{metric.capitalize()} is\", len(result))\n"
          ]
        }
      ]
    },
    {
      "cell_type": "code",
      "source": [
        "cm = confusion_matrix(Y_test, y_preds)\n",
        "print(cm)"
      ],
      "metadata": {
        "colab": {
          "base_uri": "https://localhost:8080/"
        },
        "id": "ce7_uO1KRebU",
        "outputId": "af02d704-bbc3-479d-f78b-249c3758a321"
      },
      "execution_count": 172,
      "outputs": [
        {
          "output_type": "stream",
          "name": "stdout",
          "text": [
            "[[233   0]\n",
            " [  1   0]]\n"
          ]
        }
      ]
    },
    {
      "cell_type": "code",
      "source": [
        "sns.heatmap(cm, annot = True, fmt = \"d\", cmap = 'Spectral')\n",
        "plt.xlabel('Predicted labels')\n",
        "plt.ylabel('True labels')"
      ],
      "metadata": {
        "colab": {
          "base_uri": "https://localhost:8080/",
          "height": 466
        },
        "id": "q3KX3tCEReTe",
        "outputId": "ffedbd56-d9c9-471e-915c-99b1aa6e4b4e"
      },
      "execution_count": 176,
      "outputs": [
        {
          "output_type": "execute_result",
          "data": {
            "text/plain": [
              "Text(50.722222222222214, 0.5, 'True labels')"
            ]
          },
          "metadata": {},
          "execution_count": 176
        },
        {
          "output_type": "display_data",
          "data": {
            "text/plain": [
              "<Figure size 640x480 with 2 Axes>"
            ],
            "image/png": "[encoded data removed]"
          },
          "metadata": {}
        }
      ]
    }
  ]
}